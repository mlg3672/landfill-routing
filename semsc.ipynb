{
 "cells": [
  {
   "cell_type": "code",
   "execution_count": null,
   "metadata": {
    "collapsed": true,
    "scrolled": false
   },
   "outputs": [],
   "source": [
    "# Solar Energy Materials and Solar Cells Journal Article Model"
   ]
  },
  {
   "cell_type": "code",
   "execution_count": 157,
   "metadata": {
    "collapsed": false,
    "scrolled": false
   },
   "outputs": [
    {
     "data": {
      "text/plain": [
       "'/Users/michelegoe2/Documents/Python-Projects/landfill-routing'"
      ]
     },
     "execution_count": 157,
     "metadata": {},
     "output_type": "execute_result"
    }
   ],
   "source": [
    "pwd"
   ]
  },
  {
   "cell_type": "code",
   "execution_count": 158,
   "metadata": {
    "collapsed": true,
    "scrolled": false
   },
   "outputs": [],
   "source": [
    "import imp"
   ]
  },
  {
   "cell_type": "code",
   "execution_count": 159,
   "metadata": {
    "collapsed": false,
    "scrolled": true
   },
   "outputs": [],
   "source": [
    "import optimization_semsc"
   ]
  },
  {
   "cell_type": "code",
   "execution_count": 273,
   "metadata": {
    "collapsed": false,
    "scrolled": true
   },
   "outputs": [
    {
     "name": "stdout",
     "output_type": "stream",
     "text": [
      "item is: [('AA13', 13467.6449748391), ('AA18', 9940.9940052575), ('AA21', 226272.311670755), ('AA4', 352213.292994586), ('AA27', 50719.7243820026), ('AA8', 42910.6003711995), ('AA25', 317835.437514105), ('AA37', 367457.871373645), ('AA28', 72040.6625110908), ('AA7', 26221.9780892631), ('AA24', 444493.574857171), ('AA35', 33618.4442557966), ('AA6', 10638.4962448207), ('AA9', 17034.4128809678), ('AA16', 40350.5467119282), ('AA10', 21397.011973642), ('AA31', 303588.500666062), ('AA14', 16228.8104526014), ('AA2', 27115.9055805559), ('AA32', 323064.742516823), ('AA33', 33106.1037591678), ('AA20', 71664.9592559988), ('AA23', 179074.625199332), ('AA38', 134537.636679623), ('AA22', 245257.096418135), ('AA36', 18933.3398959384), ('AA11', 710848.066940967), ('AA26', 3589737.92854137), ('AA30', 178538.026930265), ('AA15', 2371.86032655571), ('AA1', 241429.802192434), ('AA12', 114577.978900255), ('AA17', 1607.00381123006), ('AA40', 7826.00178850598), ('AA34', 2398.67111767116), ('AA39', 547402.630251915), ('AA3', 1457.48103562285), ('AA19', 7632.01054674819), ('AA29', 1002591.39750301)]\n"
     ]
    },
    {
     "data": {
      "text/plain": [
       "<module 'optimization_semsc' from '/Users/michelegoe2/Documents/Python-Projects/landfill-routing/optimization_semsc.py'>"
      ]
     },
     "execution_count": 273,
     "metadata": {},
     "output_type": "execute_result"
    }
   ],
   "source": [
    "imp.reload(optimization_semsc)"
   ]
  },
  {
   "cell_type": "code",
   "execution_count": 142,
   "metadata": {
    "collapsed": true,
    "scrolled": false
   },
   "outputs": [],
   "source": [
    "## Choose sample origin, destination pairs for locations, and calculate cost"
   ]
  },
  {
   "cell_type": "code",
   "execution_count": 161,
   "metadata": {
    "collapsed": true,
    "scrolled": false
   },
   "outputs": [],
   "source": [
    "s=[0,1,0,2,0,3,0,4,0,4]"
   ]
  },
  {
   "cell_type": "code",
   "execution_count": 162,
   "metadata": {
    "collapsed": false,
    "scrolled": false
   },
   "outputs": [
    {
     "name": "stdout",
     "output_type": "stream",
     "text": [
      "    origin  dest   fac f_dist size state mass realdist\n",
      "      AA13  RG1    10 5470km    43MW  AK 1267mt 13467km\n",
      "      AA18  RG1     9 4640km     2MW  CA 935mt 9940km\n",
      "      AA21  RG1    10 6807km   108MW  AK 21294mt 226272km\n",
      "       AA4  RG1     8 4282km   242MW  CA 33146mt 352213km\n",
      "      AA27  RG1    10 4608km     2MW  AK 4773mt 50719km\n",
      "       AA8  RG1     7 805km     2MW  NE 4038mt 42910km\n",
      "      AA25  RG1    10 6641km   170MW  AK 29911mt 317835km\n",
      "      AA37  RG1     6 3123km   231MW  NE 34581mt 367457km\n",
      "      AA28  RG1    10 4944km    14MW  AK 6779mt 72040km\n",
      "       AA7  RG1     6 381km    14MW  NE 2467mt 26221km\n"
     ]
    }
   ],
   "source": [
    "optimization_semsc.printschedule(s)"
   ]
  },
  {
   "cell_type": "code",
   "execution_count": 163,
   "metadata": {
    "collapsed": false,
    "scrolled": false
   },
   "outputs": [
    {
     "data": {
      "text/plain": [
       "80649"
      ]
     },
     "execution_count": 163,
     "metadata": {},
     "output_type": "execute_result"
    }
   ],
   "source": [
    "optimization_semsc.schedulecost(s)"
   ]
  },
  {
   "cell_type": "code",
   "execution_count": null,
   "metadata": {
    "collapsed": false,
    "scrolled": true
   },
   "outputs": [],
   "source": [
    "optimization_semsc.plotschedule(s) # does not work"
   ]
  },
  {
   "cell_type": "code",
   "execution_count": 164,
   "metadata": {
    "collapsed": false,
    "scrolled": true
   },
   "outputs": [
    {
     "data": {
      "text/plain": [
       "{'AK': [(1.199, 2.77e-05, 7.24e-06)],\n",
       " 'AL': [(1.399, 2.39e-05, 2.28e-05)],\n",
       " 'AR': [(1.268, 2.68e-05, 2.2e-05)],\n",
       " 'AZ': [(1.246, 1.68e-05, 1.65e-05)],\n",
       " 'CA': [(0.598, 3.14e-05, 4.48e-06)],\n",
       " 'CO': [(1.91, 2.42e-05, 2.81e-05)],\n",
       " 'CT': [(0.73, 6.3e-05, 1.23e-05)],\n",
       " 'DC': [(2.94, 0.000126, 2.53e-05)],\n",
       " 'DE': [(1.907, 2.6e-05, 2.72e-05)],\n",
       " 'FL': [(1.329, 4.34e-05, 1.71e-05)],\n",
       " 'GA': [(1.483, 2.1e-05, 2.44e-05)],\n",
       " 'HI': [(1.632, 0.000109, 2.23e-05)],\n",
       " 'IA': [(1.883, 2.22e-05, 3.12e-05)],\n",
       " 'ID': [(0.148, 1.43e-05, 2.63e-06)],\n",
       " 'IL': [(1.17, 1.37e-05, 1.93e-05)],\n",
       " 'IN': [(2.168, 2.51e-05, 3.6e-05)],\n",
       " 'KS': [(1.819, 2.12e-05, 3e-05)],\n",
       " 'KT': [(2.215, 2.59e-05, 3.74e-05)],\n",
       " 'LA': [(1.144, 2.45e-05, 1.23e-05)],\n",
       " 'MA': [(1.267, 6.85e-05, 1.73e-05)],\n",
       " 'MD': [(1.414, 3.49e-05, 2.45e-05)],\n",
       " 'ME': [(0.558, 0.000207, 2.98e-05)],\n",
       " 'MI': [(1.498, 3e-05, 2.55e-05)],\n",
       " 'MN': [(1.609, 4.51e-05, 2.91e-05)],\n",
       " 'MO': [(1.884, 2.19e-05, 3.12e-05)],\n",
       " 'MS': [(1.305, 2.32e-05, 1.67e-05)],\n",
       " 'MT': [(1.706, 2.12e-05, 2.91e-05)],\n",
       " 'NC': [(1.305, 2e-05, 2.22e-05)],\n",
       " 'ND': [(2.358, 2.55e-05, 3.79e-05)],\n",
       " 'NE': [(1.509, 1.75e-05, 2.5e-05)],\n",
       " 'NH': [(0.701, 6.58e-05, 1.51e-05)],\n",
       " 'NJ': [(0.74, 2.53e-05, 9.15e-06)],\n",
       " 'NM': [(1.891, 2.33e-05, 2.9e-05)],\n",
       " 'NV': [(1.228, 1.96e-05, 1.06e-05)],\n",
       " 'NY': [(0.796, 2.83e-05, 8.97e-06)],\n",
       " 'OJ': [(1.911, 2.29e-05, 3.21e-05)],\n",
       " 'OK': [(1.57, 2.28e-05, 1.93e-05)],\n",
       " 'OR': [(0.434, 1.83e-05, 5.32e-06)],\n",
       " 'PA': [(1.277, 2.55e-05, 2.11e-05)],\n",
       " 'RI': [(0.96, 1.91e-05, 1.93e-06)],\n",
       " 'SC': [(0.959, 1.69e-05, 1.63e-05)],\n",
       " 'SD': [(1.297, 1.57e-05, 2.03e-05)],\n",
       " 'TN': [(1.434, 1.88e-05, 2.46e-05)],\n",
       " 'TX': [(1.382, 2.01e-05, 1.57e-05)],\n",
       " 'UT': [(2.046, 2.47e-05, 3.24e-05)],\n",
       " 'VA': [(1.203, 3.79e-05, 2.05e-05)],\n",
       " 'VT': [(0.004, 7.96e-05, 1.06e-05)],\n",
       " 'WA': [(0.274, 1.04e-05, 4.59e-06)],\n",
       " 'WI': [(1.682, 2.85e-05, 2.81e-05)],\n",
       " 'WV': [(2.079, 2.38e-05, 3.53e-05)],\n",
       " 'WY': [(2.366, 2.7e-05, 4e-05)]}"
      ]
     },
     "execution_count": 164,
     "metadata": {},
     "output_type": "execute_result"
    }
   ],
   "source": [
    "optimization_semsc.efactors # print emission factors"
   ]
  },
  {
   "cell_type": "code",
   "execution_count": 19,
   "metadata": {
    "collapsed": true,
    "scrolled": false
   },
   "outputs": [],
   "source": [
    "## Random Searching Optimization - 1000 guesses"
   ]
  },
  {
   "cell_type": "code",
   "execution_count": 250,
   "metadata": {
    "collapsed": false,
    "scrolled": false
   },
   "outputs": [],
   "source": [
    "domain=[(0,len(optimization_semsc.capacity)-1)]*len((optimization_semsc.item)*1) # range of options for each value"
   ]
  },
  {
   "cell_type": "code",
   "execution_count": 251,
   "metadata": {
    "collapsed": true,
    "scrolled": false
   },
   "outputs": [],
   "source": [
    "import random"
   ]
  },
  {
   "cell_type": "code",
   "execution_count": 270,
   "metadata": {
    "collapsed": false,
    "scrolled": false
   },
   "outputs": [
    {
     "name": "stdout",
     "output_type": "stream",
     "text": [
      "[6, 0, 0, 8, 6, 3, 2, 1, 7, 7, 1, 7, 0, 4, 2, 4, 0, 3, 8, 7, 5, 6, 7, 8, 5, 3, 2, 5, 6, 4, 7, 2, 0, 7, 5, 8, 6, 4, 3]\n"
     ]
    }
   ],
   "source": [
    "r=[random.randint(domain[i][0],domain[i][1])\n",
    "      for i in range(len(domain))]\n",
    "print(r)"
   ]
  },
  {
   "cell_type": "code",
   "execution_count": 271,
   "metadata": {
    "collapsed": false,
    "scrolled": true
   },
   "outputs": [],
   "source": [
    "s=optimization_semsc.randomoptimize(domain,optimization_semsc.schedulecost)"
   ]
  },
  {
   "cell_type": "code",
   "execution_count": 272,
   "metadata": {
    "collapsed": false,
    "scrolled": false
   },
   "outputs": [
    {
     "data": {
      "text/plain": [
       "5206.70069943083"
      ]
     },
     "execution_count": 272,
     "metadata": {},
     "output_type": "execute_result"
    }
   ],
   "source": [
    "optimization_semsc.schedulecost(s)"
   ]
  },
  {
   "cell_type": "code",
   "execution_count": 187,
   "metadata": {
    "collapsed": false,
    "scrolled": true
   },
   "outputs": [
    {
     "name": "stdout",
     "output_type": "stream",
     "text": [
      "    origin  dest   fac f_dist size state mass realdist\n",
      "      AA13  RG1     2 1034km    43MW  ID 1267mt 13467km\n",
      "      AA18  RG1     8 4081km     2MW  CA 935mt 9940km\n",
      "      AA21  RG1     8 3371km   108MW  CA 21294mt 226272km\n",
      "       AA4  RG1     8 4282km   242MW  CA 33146mt 352213km\n",
      "      AA27  RG1     5 4436km     2MW  CO 4773mt 50719km\n",
      "       AA8  RG1     9 2401km     2MW  CA 4038mt 42910km\n",
      "      AA25  RG1     5 4487km   170MW  CO 29911mt 317835km\n",
      "      AA37  RG1     2 1351km   231MW  ID 34581mt 367457km\n",
      "      AA28  RG1     8 4509km    14MW  CA 6779mt 72040km\n",
      "       AA7  RG1     7 1343km    14MW  NE 2467mt 26221km\n",
      "      AA24  RG1     9 4839km   180MW  CA 41831mt 444493km\n",
      "      AA35  RG1    10 5763km    17MW  AK 3163mt 33618km\n",
      "       AA6  RG1     8 3317km     0MW  CA 1001mt 10638km\n",
      "       AA9  RG1     4 1407km     3MW  NE 1603mt 17034km\n",
      "      AA16  RG1     7 1024km     8MW  NE 3797mt 40350km\n",
      "      AA10  RG1     2 2402km     2MW  ID 2013mt 21397km\n",
      "      AA31  RG1     8 4476km    45MW  CA 28570mt 303588km\n",
      "      AA14  RG1     7 2119km     1MW  NE 1527mt 16228km\n",
      "       AA2  RG1     6 1385km    15MW  NE 2551mt 27115km\n",
      "      AA32  RG1    10 5669km   209MW  AK 30403mt 323064km\n",
      "      AA33  RG1    10 6361km    84MW  AK 3115mt 33106km\n",
      "      AA20  RG1     7 2385km    77MW  NE 6744mt 71664km\n",
      "      AA23  RG1     8 4460km    39MW  CA 16852mt 179074km\n",
      "      AA38  RG1     9 4423km   171MW  CA 12661mt 134537km\n",
      "      AA22  RG1     6 630km   165MW  NE 23081mt 245257km\n",
      "      AA36  RG1     1 5937km     4MW  AK 1781mt 18933km\n",
      "      AA11  RG1     2 1202km   226MW  ID 66897mt 710848km\n",
      "      AA26  RG1     2 1312km   724MW  ID 337830mt 3589737km\n",
      "      AA30  RG1     2 840km    37MW  ID 16802mt 178538km\n",
      "      AA15  RG1     8 2847km     1MW  CA 223mt 2371km\n",
      "       AA1  RG1     8 4327km    89MW  CA 22720mt 241429km\n",
      "      AA12  RG1     5 4657km   301MW  CO 10782mt 114577km\n",
      "      AA17  RG1     8 3053km    98MW  CA 151mt 1607km\n",
      "      AA40  RG1     8 3080km     0MW  CA 736mt 7826km\n",
      "      AA34  RG1     8 3154km     0MW  CA 225mt 2398km\n",
      "      AA39  RG1     9 5062km    23MW  CA 51516mt 547402km\n",
      "       AA3  RG1    10 5486km     5MW  AK 137mt 1457km\n",
      "      AA19  RG1     8 3487km     0MW  CA 718mt 7632km\n",
      "      AA29  RG1     9 4893km   242MW  CA 94353mt 1002591km\n"
     ]
    }
   ],
   "source": [
    "optimization_semsc.printschedule(s)"
   ]
  },
  {
   "cell_type": "code",
   "execution_count": 196,
   "metadata": {
    "collapsed": false,
    "scrolled": false
   },
   "outputs": [
    {
     "name": "stdout",
     "output_type": "stream",
     "text": [
      "[5.0, 8.0, 6.0, 6.0, 6.0, 8.0, 7.0, 7.0, 6.0, 7.0, 7.0, 8.0, 1.0, 3.0, 5.0, 2.0, 2.0, 8.0, 4.0, 1.0, 5.0, 1.0, 7.0, 2.0, 3.0, 8.0, 2.0, 7.0, 8.0, 4.0, 7.0, 4.0, 0.0, 5.0, 6.0, 2.0, 0.0, 7.0, 2.0]\n"
     ]
    }
   ],
   "source": [
    "print(s)"
   ]
  },
  {
   "cell_type": "code",
   "execution_count": 255,
   "metadata": {
    "collapsed": true
   },
   "outputs": [],
   "source": [
    "optimization_semsc.writeresults(s,\"sol/r1_norecy_random.csv\")"
   ]
  },
  {
   "cell_type": "code",
   "execution_count": 153,
   "metadata": {
    "collapsed": true,
    "scrolled": false
   },
   "outputs": [],
   "source": [
    "## Hill Climbing "
   ]
  },
  {
   "cell_type": "code",
   "execution_count": 256,
   "metadata": {
    "collapsed": false,
    "scrolled": false
   },
   "outputs": [],
   "source": [
    "sol=[random.randint(domain[0][0],domain[0][1])]"
   ]
  },
  {
   "cell_type": "code",
   "execution_count": 257,
   "metadata": {
    "collapsed": false,
    "scrolled": true
   },
   "outputs": [
    {
     "name": "stdout",
     "output_type": "stream",
     "text": [
      "[1, 1, 5, 0, 2, 6, 6, 1, 6, 2, 5, 6, 0, 1, 2, 0, 4, 1, 5, 5, 8, 4, 5, 2, 8, 0, 7, 2, 0, 5, 0, 2, 1, 5, 3, 7, 1, 2, 2]\n",
      "[[1, 1, 5, 1, 2, 6, 6, 1, 6, 2, 5, 6, 0, 1, 2, 0, 4, 1, 5, 5, 8, 4, 5, 2, 8, 0, 7, 2, 0, 5, 0, 2, 1, 5, 3, 7, 1, 2, 2], [1, 1, 5, 0, 2, 6, 6, 1, 6, 2, 5, 6, 1, 1, 2, 0, 4, 1, 5, 5, 8, 4, 5, 2, 8, 0, 7, 2, 0, 5, 0, 2, 1, 5, 3, 7, 1, 2, 2], [1, 1, 5, 0, 2, 6, 6, 1, 6, 2, 5, 6, 0, 1, 2, 1, 4, 1, 5, 5, 8, 4, 5, 2, 8, 0, 7, 2, 0, 5, 0, 2, 1, 5, 3, 7, 1, 2, 2], [1, 1, 5, 0, 2, 6, 6, 1, 6, 2, 5, 6, 0, 1, 2, 0, 4, 1, 5, 5, 7, 4, 5, 2, 8, 0, 7, 2, 0, 5, 0, 2, 1, 5, 3, 7, 1, 2, 2], [1, 1, 5, 0, 2, 6, 6, 1, 6, 2, 5, 6, 0, 1, 2, 0, 4, 1, 5, 5, 8, 4, 5, 2, 7, 0, 7, 2, 0, 5, 0, 2, 1, 5, 3, 7, 1, 2, 2], [1, 1, 5, 0, 2, 6, 6, 1, 6, 2, 5, 6, 0, 1, 2, 0, 4, 1, 5, 5, 8, 4, 5, 2, 8, 1, 7, 2, 0, 5, 0, 2, 1, 5, 3, 7, 1, 2, 2], [1, 1, 5, 0, 2, 6, 6, 1, 6, 2, 5, 6, 0, 1, 2, 0, 4, 1, 5, 5, 8, 4, 5, 2, 8, 0, 7, 2, 1, 5, 0, 2, 1, 5, 3, 7, 1, 2, 2], [1, 1, 5, 0, 2, 6, 6, 1, 6, 2, 5, 6, 0, 1, 2, 0, 4, 1, 5, 5, 8, 4, 5, 2, 8, 0, 7, 2, 0, 5, 1, 2, 1, 5, 3, 7, 1, 2, 2]]\n"
     ]
    }
   ],
   "source": [
    "s=optimization_semsc.hillclimb(domain,optimization_semsc.schedulecost)"
   ]
  },
  {
   "cell_type": "code",
   "execution_count": 258,
   "metadata": {
    "collapsed": false,
    "scrolled": false
   },
   "outputs": [
    {
     "data": {
      "text/plain": [
       "5206.70069943083"
      ]
     },
     "execution_count": 258,
     "metadata": {},
     "output_type": "execute_result"
    }
   ],
   "source": [
    "optimization_semsc.schedulecost(s)"
   ]
  },
  {
   "cell_type": "code",
   "execution_count": 266,
   "metadata": {
    "collapsed": false,
    "scrolled": true
   },
   "outputs": [
    {
     "name": "stdout",
     "output_type": "stream",
     "text": [
      "    origin  dest   fac f_dist size state mass realdist\n",
      "      AA13  RG1    10 5470km    43MW  AK 1267mt 13467km\n",
      "      AA18  RG1    10 5542km     2MW  AK 935mt 9940km\n",
      "      AA21  RG1     4 3219km   108MW  NE 21294mt 226272km\n",
      "       AA4  RG1    10 6550km   242MW  AK 33146mt 352213km\n",
      "      AA27  RG1     5 4436km     2MW  CO 4773mt 50719km\n",
      "       AA8  RG1     9 2401km     2MW  CA 4038mt 42910km\n",
      "      AA25  RG1     2 1430km   170MW  ID 29911mt 317835km\n",
      "      AA37  RG1     1 4633km   231MW  AK 34581mt 367457km\n",
      "      AA28  RG1     5 4741km    14MW  CO 6779mt 72040km\n",
      "       AA7  RG1     4 2307km    14MW  NE 2467mt 26221km\n",
      "      AA24  RG1     1 5582km   180MW  AK 41831mt 444493km\n",
      "      AA35  RG1     6 1688km    17MW  NE 3163mt 33618km\n",
      "       AA6  RG1     6 2496km     0MW  NE 1001mt 10638km\n",
      "       AA9  RG1     2 2027km     3MW  ID 1603mt 17034km\n",
      "      AA16  RG1     4 3092km     8MW  NE 3797mt 40350km\n",
      "      AA10  RG1     9 2925km     2MW  CA 2013mt 21397km\n",
      "      AA31  RG1     8 4476km    45MW  CA 28570mt 303588km\n",
      "      AA14  RG1     7 2119km     1MW  NE 1527mt 16228km\n",
      "       AA2  RG1     4 2979km    15MW  NE 2551mt 27115km\n",
      "      AA32  RG1     6 3062km   209MW  NE 30403mt 323064km\n",
      "      AA33  RG1     2 1151km    84MW  ID 3115mt 33106km\n",
      "      AA20  RG1     7 2385km    77MW  NE 6744mt 71664km\n",
      "      AA23  RG1     7 2326km    39MW  NE 16852mt 179074km\n",
      "      AA38  RG1     1 5167km   171MW  AK 12661mt 134537km\n",
      "      AA22  RG1     6 630km   165MW  NE 23081mt 245257km\n",
      "      AA36  RG1     2 2247km     4MW  ID 1781mt 18933km\n",
      "      AA11  RG1     2 1202km   226MW  ID 66897mt 710848km\n",
      "      AA26  RG1     5 3934km   724MW  CO 337830mt 3589737km\n",
      "      AA30  RG1     9 3248km    37MW  CA 16802mt 178538km\n",
      "      AA15  RG1     6 1651km     1MW  NE 223mt 2371km\n",
      "       AA1  RG1     1 5011km    89MW  AK 22720mt 241429km\n",
      "      AA12  RG1     7 2466km   301MW  NE 10782mt 114577km\n",
      "      AA17  RG1     4 2896km    98MW  NE 151mt 1607km\n",
      "      AA40  RG1     9 3638km     0MW  CA 736mt 7826km\n",
      "      AA34  RG1     4 3074km     0MW  NE 225mt 2398km\n",
      "      AA39  RG1     5 4735km    23MW  CO 51516mt 547402km\n",
      "       AA3  RG1     7 1177km     5MW  NE 137mt 1457km\n",
      "      AA19  RG1    10 4708km     0MW  AK 718mt 7632km\n",
      "      AA29  RG1     7 2295km   242MW  NE 94353mt 1002591km\n"
     ]
    }
   ],
   "source": [
    "optimization_semsc.printschedule(s)"
   ]
  },
  {
   "cell_type": "code",
   "execution_count": 259,
   "metadata": {
    "collapsed": true
   },
   "outputs": [],
   "source": [
    "optimization_semsc.writeresults(s,\"sol/r1_norecy_hillclimb.csv\")"
   ]
  },
  {
   "cell_type": "code",
   "execution_count": 383,
   "metadata": {
    "collapsed": true,
    "scrolled": false
   },
   "outputs": [],
   "source": [
    "## Simulated Annealing"
   ]
  },
  {
   "cell_type": "code",
   "execution_count": 260,
   "metadata": {
    "collapsed": false,
    "scrolled": false
   },
   "outputs": [],
   "source": [
    "s= optimization_semsc.annealingoptimize(domain,optimization_semsc.schedulecost)"
   ]
  },
  {
   "cell_type": "code",
   "execution_count": 261,
   "metadata": {
    "collapsed": false,
    "scrolled": false
   },
   "outputs": [
    {
     "data": {
      "text/plain": [
       "5206.70069943083"
      ]
     },
     "execution_count": 261,
     "metadata": {},
     "output_type": "execute_result"
    }
   ],
   "source": [
    "optimization_semsc.schedulecost(s)"
   ]
  },
  {
   "cell_type": "code",
   "execution_count": 262,
   "metadata": {
    "collapsed": false,
    "scrolled": false
   },
   "outputs": [],
   "source": [
    "optimization_semsc.writeresults(s,\"sol/r1_norecy_simanneal.csv\")"
   ]
  },
  {
   "cell_type": "code",
   "execution_count": 204,
   "metadata": {
    "collapsed": true,
    "scrolled": false
   },
   "outputs": [],
   "source": [
    "## Genetic Algorigthm"
   ]
  },
  {
   "cell_type": "code",
   "execution_count": 263,
   "metadata": {
    "collapsed": false,
    "scrolled": true
   },
   "outputs": [
    {
     "name": "stdout",
     "output_type": "stream",
     "text": [
      "topelite is:10\n",
      "c1 is: 3 c2 is:0\n",
      "[0, 4, 1, 8, 3, 4, 3, 2, 1, 4, 7, 6, 7, 7, 7, 2, 6, 0, 3, 0, 1, 7, 0, 0, 2, 4, 2, 3, 8, 2, 2, 1, 4, 3, 3, 8, 2, 2, 4]\n",
      "[0, 0, 6, 0, 5, 1, 7, 8, 5, 6, 8, 4, 4, 7, 6, 1, 2, 3, 6, 4, 7, 3, 3, 8, 4, 7, 7, 5, 1, 4, 8, 3, 6, 1, 6, 5, 3, 0, 3]\n",
      "scores:5206.70069943083\n",
      "c1 is: 3 c2 is:9\n",
      "[0, 4, 1, 8, 3, 4, 3, 2, 1, 4, 7, 6, 7, 7, 7, 2, 6, 0, 3, 0, 1, 7, 0, 0, 2, 4, 2, 3, 8, 2, 2, 1, 4, 3, 3, 8, 2, 2, 4]\n",
      "[1, 6, 1, 0, 0, 0, 2, 2, 7, 8, 3, 7, 5, 1, 3, 4, 5, 6, 0, 3, 4, 3, 6, 1, 4, 7, 1, 5, 5, 3, 1, 0, 4, 7, 7, 7, 4, 5, 4]\n",
      "scores:5206.70069943083\n",
      "scores:5206.70069943083\n",
      "c1 is: 0 c2 is:2\n",
      "[0, 0, 6, 0, 5, 1, 7, 8, 5, 6, 8, 4, 4, 7, 6, 1, 2, 3, 6, 4, 7, 3, 3, 8, 4, 7, 7, 5, 1, 4, 8, 3, 6, 1, 6, 5, 3, 0, 3]\n",
      "[0, 2, 1, 4, 4, 0, 1, 2, 4, 1, 5, 5, 3, 3, 2, 8, 4, 4, 8, 0, 8, 1, 2, 4, 7, 8, 2, 1, 6, 8, 2, 0, 6, 4, 7, 4, 8, 0, 1]\n",
      "scores:5206.70069943083\n",
      "c1 is: 7 c2 is:7\n",
      "[1, 3, 5, 5, 3, 7, 5, 5, 3, 7, 3, 8, 4, 4, 2, 1, 7, 4, 3, 4, 2, 4, 0, 4, 7, 0, 3, 2, 8, 5, 7, 7, 5, 8, 2, 2, 0, 4, 7]\n",
      "[1, 3, 5, 5, 3, 7, 5, 5, 3, 7, 3, 8, 4, 4, 2, 1, 7, 4, 3, 4, 2, 4, 0, 4, 7, 0, 3, 2, 8, 5, 7, 7, 5, 8, 2, 2, 0, 4, 7]\n",
      "scores:5206.70069943083\n",
      "c1 is: 6 c2 is:4\n",
      "[1, 0, 5, 8, 8, 0, 1, 8, 5, 0, 3, 8, 7, 0, 0, 4, 7, 1, 4, 2, 6, 8, 7, 5, 8, 4, 4, 1, 4, 8, 3, 8, 4, 7, 7, 2, 8, 5, 6]\n",
      "[0, 4, 8, 8, 4, 8, 6, 0, 1, 0, 3, 2, 6, 5, 1, 0, 7, 1, 2, 1, 2, 3, 3, 4, 2, 1, 0, 7, 2, 4, 3, 8, 5, 6, 7, 8, 0, 5, 3]\n",
      "scores:5206.70069943083\n",
      "c1 is: 4 c2 is:8\n",
      "[0, 4, 8, 8, 4, 8, 6, 0, 1, 0, 3, 2, 6, 5, 1, 0, 7, 1, 2, 1, 2, 3, 3, 4, 2, 1, 0, 7, 2, 4, 3, 8, 5, 6, 7, 8, 0, 5, 3]\n",
      "[1, 4, 2, 3, 1, 3, 4, 3, 1, 6, 2, 5, 4, 3, 6, 3, 2, 2, 1, 1, 5, 6, 4, 0, 3, 4, 5, 3, 3, 3, 0, 0, 3, 6, 8, 7, 4, 0, 5]\n",
      "scores:5206.70069943083\n",
      "c1 is: 0 c2 is:1\n",
      "[0, 0, 6, 0, 5, 1, 7, 8, 5, 6, 8, 4, 4, 7, 6, 1, 2, 3, 6, 4, 7, 3, 3, 8, 4, 7, 7, 5, 1, 4, 8, 3, 6, 1, 6, 5, 3, 0, 3]\n",
      "[0, 1, 7, 8, 6, 3, 3, 6, 3, 3, 1, 2, 0, 7, 4, 4, 0, 6, 7, 4, 5, 7, 3, 4, 3, 6, 4, 7, 3, 0, 2, 1, 7, 2, 5, 8, 3, 5, 8]\n",
      "scores:5206.70069943083\n",
      "scores:5206.70069943083\n",
      "c1 is: 7 c2 is:3\n",
      "[1, 3, 5, 5, 3, 7, 5, 5, 3, 7, 3, 8, 4, 4, 2, 1, 7, 4, 3, 4, 2, 4, 0, 4, 7, 0, 3, 2, 8, 5, 7, 7, 5, 8, 2, 2, 0, 4, 7]\n",
      "[0, 4, 1, 8, 3, 4, 3, 2, 1, 4, 7, 6, 7, 7, 7, 2, 6, 0, 3, 0, 1, 7, 0, 0, 2, 4, 2, 3, 8, 2, 2, 1, 4, 3, 3, 8, 2, 2, 4]\n",
      "scores:5206.70069943083\n",
      "scores:5206.70069943083\n",
      "c1 is: 1 c2 is:6\n",
      "[0, 1, 7, 8, 6, 3, 3, 6, 3, 3, 1, 2, 0, 7, 4, 4, 0, 6, 7, 4, 5, 7, 3, 4, 3, 6, 4, 7, 3, 0, 2, 1, 7, 2, 5, 8, 3, 5, 8]\n",
      "[1, 0, 5, 8, 8, 0, 1, 8, 5, 0, 3, 8, 7, 0, 0, 4, 7, 1, 4, 2, 6, 8, 7, 5, 8, 4, 4, 1, 4, 8, 3, 8, 4, 7, 7, 2, 8, 5, 6]\n",
      "scores:5206.70069943083\n",
      "c1 is: 2 c2 is:0\n",
      "[0, 2, 1, 4, 4, 0, 1, 2, 4, 1, 5, 5, 3, 3, 2, 8, 4, 4, 8, 0, 8, 1, 2, 4, 7, 8, 2, 1, 6, 8, 2, 0, 6, 4, 7, 4, 8, 0, 1]\n",
      "[0, 0, 6, 0, 5, 1, 7, 8, 5, 6, 8, 4, 4, 7, 6, 1, 2, 3, 6, 4, 7, 3, 3, 8, 4, 7, 7, 5, 1, 4, 8, 3, 6, 1, 6, 5, 3, 0, 3]\n",
      "scores:5206.70069943083\n",
      "c1 is: 6 c2 is:2\n",
      "[1, 0, 5, 8, 8, 0, 1, 8, 5, 0, 3, 8, 7, 0, 0, 4, 7, 1, 4, 2, 6, 8, 7, 5, 8, 4, 4, 1, 4, 8, 3, 8, 4, 7, 7, 2, 8, 5, 6]\n",
      "[0, 2, 1, 4, 4, 0, 1, 2, 4, 1, 5, 5, 3, 3, 2, 8, 4, 4, 8, 0, 8, 1, 2, 4, 7, 8, 2, 1, 6, 8, 2, 0, 6, 4, 7, 4, 8, 0, 1]\n",
      "scores:5206.70069943083\n",
      "c1 is: 9 c2 is:4\n",
      "[1, 6, 1, 0, 0, 0, 2, 2, 7, 8, 3, 7, 5, 1, 3, 4, 5, 6, 0, 3, 4, 3, 6, 1, 4, 7, 1, 5, 5, 3, 1, 0, 4, 7, 7, 7, 4, 5, 4]\n",
      "[0, 4, 8, 8, 4, 8, 6, 0, 1, 0, 3, 2, 6, 5, 1, 0, 7, 1, 2, 1, 2, 3, 3, 4, 2, 1, 0, 7, 2, 4, 3, 8, 5, 6, 7, 8, 0, 5, 3]\n",
      "scores:5206.70069943083\n",
      "c1 is: 3 c2 is:3\n",
      "[0, 4, 1, 8, 3, 4, 3, 2, 1, 4, 7, 6, 7, 7, 7, 2, 6, 0, 3, 0, 1, 7, 0, 0, 2, 4, 2, 3, 8, 2, 2, 1, 4, 3, 3, 8, 2, 2, 4]\n",
      "[0, 4, 1, 8, 3, 4, 3, 2, 1, 4, 7, 6, 7, 7, 7, 2, 6, 0, 3, 0, 1, 7, 0, 0, 2, 4, 2, 3, 8, 2, 2, 1, 4, 3, 3, 8, 2, 2, 4]\n",
      "scores:5206.70069943083\n",
      "c1 is: 8 c2 is:8\n",
      "[1, 4, 2, 3, 1, 3, 4, 3, 1, 6, 2, 5, 4, 3, 6, 3, 2, 2, 1, 1, 5, 6, 4, 0, 3, 4, 5, 3, 3, 3, 0, 0, 3, 6, 8, 7, 4, 0, 5]\n",
      "[1, 4, 2, 3, 1, 3, 4, 3, 1, 6, 2, 5, 4, 3, 6, 3, 2, 2, 1, 1, 5, 6, 4, 0, 3, 4, 5, 3, 3, 3, 0, 0, 3, 6, 8, 7, 4, 0, 5]\n",
      "scores:5206.70069943083\n",
      "c1 is: 4 c2 is:9\n",
      "[0, 4, 8, 8, 4, 8, 6, 0, 1, 0, 3, 2, 6, 5, 1, 0, 7, 1, 2, 1, 2, 3, 3, 4, 2, 1, 0, 7, 2, 4, 3, 8, 5, 6, 7, 8, 0, 5, 3]\n",
      "[1, 6, 1, 0, 0, 0, 2, 2, 7, 8, 3, 7, 5, 1, 3, 4, 5, 6, 0, 3, 4, 3, 6, 1, 4, 7, 1, 5, 5, 3, 1, 0, 4, 7, 7, 7, 4, 5, 4]\n",
      "scores:5206.70069943083\n",
      "c1 is: 9 c2 is:3\n",
      "[1, 6, 1, 0, 0, 0, 2, 2, 7, 8, 3, 7, 5, 1, 3, 4, 5, 6, 0, 3, 4, 3, 6, 1, 4, 7, 1, 5, 5, 3, 1, 0, 4, 7, 7, 7, 4, 5, 4]\n",
      "[0, 4, 1, 8, 3, 4, 3, 2, 1, 4, 7, 6, 7, 7, 7, 2, 6, 0, 3, 0, 1, 7, 0, 0, 2, 4, 2, 3, 8, 2, 2, 1, 4, 3, 3, 8, 2, 2, 4]\n",
      "scores:5206.70069943083\n",
      "c1 is: 4 c2 is:6\n",
      "[0, 4, 8, 8, 4, 8, 6, 0, 1, 0, 3, 2, 6, 5, 1, 0, 7, 1, 2, 1, 2, 3, 3, 4, 2, 1, 0, 7, 2, 4, 3, 8, 5, 6, 7, 8, 0, 5, 3]\n",
      "[1, 0, 5, 8, 8, 0, 1, 8, 5, 0, 3, 8, 7, 0, 0, 4, 7, 1, 4, 2, 6, 8, 7, 5, 8, 4, 4, 1, 4, 8, 3, 8, 4, 7, 7, 2, 8, 5, 6]\n",
      "scores:5206.70069943083\n",
      "c1 is: 1 c2 is:6\n",
      "[0, 1, 7, 8, 6, 3, 3, 6, 3, 3, 1, 2, 0, 7, 4, 4, 0, 6, 7, 4, 5, 7, 3, 4, 3, 6, 4, 7, 3, 0, 2, 1, 7, 2, 5, 8, 3, 5, 8]\n",
      "[1, 0, 5, 8, 8, 0, 1, 8, 5, 0, 3, 8, 7, 0, 0, 4, 7, 1, 4, 2, 6, 8, 7, 5, 8, 4, 4, 1, 4, 8, 3, 8, 4, 7, 7, 2, 8, 5, 6]\n",
      "scores:5206.70069943083\n",
      "c1 is: 5 c2 is:4\n",
      "[0, 7, 7, 3, 7, 2, 4, 1, 5, 2, 7, 8, 8, 1, 1, 1, 3, 1, 0, 4, 0, 2, 0, 7, 4, 6, 3, 2, 4, 3, 0, 7, 5, 1, 7, 4, 5, 7, 8]\n",
      "[0, 4, 8, 8, 4, 8, 6, 0, 1, 0, 3, 2, 6, 5, 1, 0, 7, 1, 2, 1, 2, 3, 3, 4, 2, 1, 0, 7, 2, 4, 3, 8, 5, 6, 7, 8, 0, 5, 3]\n",
      "scores:5206.70069943083\n",
      "c1 is: 8 c2 is:4\n",
      "[1, 4, 2, 3, 1, 3, 4, 3, 1, 6, 2, 5, 4, 3, 6, 3, 2, 2, 1, 1, 5, 6, 4, 0, 3, 4, 5, 3, 3, 3, 0, 0, 3, 6, 8, 7, 4, 0, 5]\n",
      "[0, 4, 8, 8, 4, 8, 6, 0, 1, 0, 3, 2, 6, 5, 1, 0, 7, 1, 2, 1, 2, 3, 3, 4, 2, 1, 0, 7, 2, 4, 3, 8, 5, 6, 7, 8, 0, 5, 3]\n",
      "scores:5206.70069943083\n",
      "c1 is: 0 c2 is:9\n",
      "[0, 0, 6, 0, 5, 1, 7, 8, 5, 6, 8, 4, 4, 7, 6, 1, 2, 3, 6, 4, 7, 3, 3, 8, 4, 7, 7, 5, 1, 4, 8, 3, 6, 1, 6, 5, 3, 0, 3]\n",
      "[1, 6, 1, 0, 0, 0, 2, 2, 7, 8, 3, 7, 5, 1, 3, 4, 5, 6, 0, 3, 4, 3, 6, 1, 4, 7, 1, 5, 5, 3, 1, 0, 4, 7, 7, 7, 4, 5, 4]\n",
      "scores:5206.70069943083\n",
      "c1 is: 3 c2 is:1\n",
      "[0, 4, 1, 8, 3, 4, 3, 2, 1, 4, 7, 6, 7, 7, 7, 2, 6, 0, 3, 0, 1, 7, 0, 0, 2, 4, 2, 3, 8, 2, 2, 1, 4, 3, 3, 8, 2, 2, 4]\n",
      "[0, 1, 7, 8, 6, 3, 3, 6, 3, 3, 1, 2, 0, 7, 4, 4, 0, 6, 7, 4, 5, 7, 3, 4, 3, 6, 4, 7, 3, 0, 2, 1, 7, 2, 5, 8, 3, 5, 8]\n",
      "scores:5206.70069943083\n",
      "c1 is: 4 c2 is:8\n",
      "[0, 4, 8, 8, 4, 8, 6, 0, 1, 0, 3, 2, 6, 5, 1, 0, 7, 1, 2, 1, 2, 3, 3, 4, 2, 1, 0, 7, 2, 4, 3, 8, 5, 6, 7, 8, 0, 5, 3]\n",
      "[1, 4, 2, 3, 1, 3, 4, 3, 1, 6, 2, 5, 4, 3, 6, 3, 2, 2, 1, 1, 5, 6, 4, 0, 3, 4, 5, 3, 3, 3, 0, 0, 3, 6, 8, 7, 4, 0, 5]\n",
      "scores:5206.70069943083\n",
      "c1 is: 6 c2 is:0\n",
      "[1, 0, 5, 8, 8, 0, 1, 8, 5, 0, 3, 8, 7, 0, 0, 4, 7, 1, 4, 2, 6, 8, 7, 5, 8, 4, 4, 1, 4, 8, 3, 8, 4, 7, 7, 2, 8, 5, 6]\n",
      "[0, 0, 6, 0, 5, 1, 7, 8, 5, 6, 8, 4, 4, 7, 6, 1, 2, 3, 6, 4, 7, 3, 3, 8, 4, 7, 7, 5, 1, 4, 8, 3, 6, 1, 6, 5, 3, 0, 3]\n",
      "scores:5206.70069943083\n",
      "c1 is: 2 c2 is:1\n",
      "[0, 2, 1, 4, 4, 0, 1, 2, 4, 1, 5, 5, 3, 3, 2, 8, 4, 4, 8, 0, 8, 1, 2, 4, 7, 8, 2, 1, 6, 8, 2, 0, 6, 4, 7, 4, 8, 0, 1]\n",
      "[0, 1, 7, 8, 6, 3, 3, 6, 3, 3, 1, 2, 0, 7, 4, 4, 0, 6, 7, 4, 5, 7, 3, 4, 3, 6, 4, 7, 3, 0, 2, 1, 7, 2, 5, 8, 3, 5, 8]\n",
      "scores:5206.70069943083\n",
      "c1 is: 6 c2 is:8\n",
      "[1, 0, 5, 8, 8, 0, 1, 8, 5, 0, 3, 8, 7, 0, 0, 4, 7, 1, 4, 2, 6, 8, 7, 5, 8, 4, 4, 1, 4, 8, 3, 8, 4, 7, 7, 2, 8, 5, 6]\n",
      "[1, 4, 2, 3, 1, 3, 4, 3, 1, 6, 2, 5, 4, 3, 6, 3, 2, 2, 1, 1, 5, 6, 4, 0, 3, 4, 5, 3, 3, 3, 0, 0, 3, 6, 8, 7, 4, 0, 5]\n",
      "scores:5206.70069943083\n",
      "c1 is: 8 c2 is:9\n",
      "[1, 4, 2, 3, 1, 3, 4, 3, 1, 6, 2, 5, 4, 3, 6, 3, 2, 2, 1, 1, 5, 6, 4, 0, 3, 4, 5, 3, 3, 3, 0, 0, 3, 6, 8, 7, 4, 0, 5]\n",
      "[1, 6, 1, 0, 0, 0, 2, 2, 7, 8, 3, 7, 5, 1, 3, 4, 5, 6, 0, 3, 4, 3, 6, 1, 4, 7, 1, 5, 5, 3, 1, 0, 4, 7, 7, 7, 4, 5, 4]\n",
      "scores:5206.70069943083\n",
      "scores:5206.70069943083\n",
      "scores:5206.70069943083\n",
      "c1 is: 7 c2 is:4\n",
      "[1, 3, 5, 5, 3, 7, 5, 5, 3, 7, 3, 8, 4, 4, 2, 1, 7, 4, 3, 4, 2, 4, 0, 4, 7, 0, 3, 2, 8, 5, 7, 7, 5, 8, 2, 2, 0, 4, 7]\n",
      "[0, 4, 8, 8, 4, 8, 6, 0, 1, 0, 3, 2, 6, 5, 1, 0, 7, 1, 2, 1, 2, 3, 3, 4, 2, 1, 0, 7, 2, 4, 3, 8, 5, 6, 7, 8, 0, 5, 3]\n",
      "scores:5206.70069943083\n",
      "c1 is: 5 c2 is:5\n",
      "[0, 7, 7, 3, 7, 2, 4, 1, 5, 2, 7, 8, 8, 1, 1, 1, 3, 1, 0, 4, 0, 2, 0, 7, 4, 6, 3, 2, 4, 3, 0, 7, 5, 1, 7, 4, 5, 7, 8]\n",
      "[0, 7, 7, 3, 7, 2, 4, 1, 5, 2, 7, 8, 8, 1, 1, 1, 3, 1, 0, 4, 0, 2, 0, 7, 4, 6, 3, 2, 4, 3, 0, 7, 5, 1, 7, 4, 5, 7, 8]\n",
      "scores:5206.70069943083\n",
      "scores:5206.70069943083\n",
      "c1 is: 5 c2 is:8\n",
      "[0, 7, 7, 3, 7, 2, 4, 1, 5, 2, 7, 8, 8, 1, 1, 1, 3, 1, 0, 4, 0, 2, 0, 7, 4, 6, 3, 2, 4, 3, 0, 7, 5, 1, 7, 4, 5, 7, 8]\n",
      "[1, 4, 2, 3, 1, 3, 4, 3, 1, 6, 2, 5, 4, 3, 6, 3, 2, 2, 1, 1, 5, 6, 4, 0, 3, 4, 5, 3, 3, 3, 0, 0, 3, 6, 8, 7, 4, 0, 5]\n",
      "scores:5206.70069943083\n",
      "c1 is: 4 c2 is:0\n",
      "[0, 4, 8, 8, 4, 8, 6, 0, 1, 0, 3, 2, 6, 5, 1, 0, 7, 1, 2, 1, 2, 3, 3, 4, 2, 1, 0, 7, 2, 4, 3, 8, 5, 6, 7, 8, 0, 5, 3]\n",
      "[0, 0, 6, 0, 5, 1, 7, 8, 5, 6, 8, 4, 4, 7, 6, 1, 2, 3, 6, 4, 7, 3, 3, 8, 4, 7, 7, 5, 1, 4, 8, 3, 6, 1, 6, 5, 3, 0, 3]\n",
      "scores:5206.70069943083\n",
      "c1 is: 3 c2 is:4\n",
      "[0, 4, 1, 8, 3, 4, 3, 2, 1, 4, 7, 6, 7, 7, 7, 2, 6, 0, 3, 0, 1, 7, 0, 0, 2, 4, 2, 3, 8, 2, 2, 1, 4, 3, 3, 8, 2, 2, 4]\n",
      "[0, 4, 8, 8, 4, 8, 6, 0, 1, 0, 3, 2, 6, 5, 1, 0, 7, 1, 2, 1, 2, 3, 3, 4, 2, 1, 0, 7, 2, 4, 3, 8, 5, 6, 7, 8, 0, 5, 3]\n",
      "scores:5206.70069943083\n",
      "c1 is: 9 c2 is:4\n",
      "[1, 6, 1, 0, 0, 0, 2, 2, 7, 8, 3, 7, 5, 1, 3, 4, 5, 6, 0, 3, 4, 3, 6, 1, 4, 7, 1, 5, 5, 3, 1, 0, 4, 7, 7, 7, 4, 5, 4]\n",
      "[0, 4, 8, 8, 4, 8, 6, 0, 1, 0, 3, 2, 6, 5, 1, 0, 7, 1, 2, 1, 2, 3, 3, 4, 2, 1, 0, 7, 2, 4, 3, 8, 5, 6, 7, 8, 0, 5, 3]\n",
      "scores:5206.70069943083\n",
      "c1 is: 4 c2 is:6\n",
      "[0, 4, 8, 8, 4, 8, 6, 0, 1, 0, 3, 2, 6, 5, 1, 0, 7, 1, 2, 1, 2, 3, 3, 4, 2, 1, 0, 7, 2, 4, 3, 8, 5, 6, 7, 8, 0, 5, 3]\n",
      "[1, 0, 5, 8, 8, 0, 1, 8, 5, 0, 3, 8, 7, 0, 0, 4, 7, 1, 4, 2, 6, 8, 7, 5, 8, 4, 4, 1, 4, 8, 3, 8, 4, 7, 7, 2, 8, 5, 6]\n",
      "scores:5206.70069943083\n"
     ]
    }
   ],
   "source": [
    "s=optimization_semsc.geneticoptimize(domain,optimization_semsc.schedulecost)"
   ]
  },
  {
   "cell_type": "code",
   "execution_count": 264,
   "metadata": {
    "collapsed": false,
    "scrolled": false
   },
   "outputs": [
    {
     "data": {
      "text/plain": [
       "5206.70069943083"
      ]
     },
     "execution_count": 264,
     "metadata": {},
     "output_type": "execute_result"
    }
   ],
   "source": [
    "optimization_semsc.schedulecost(s)"
   ]
  },
  {
   "cell_type": "code",
   "execution_count": 265,
   "metadata": {
    "collapsed": false,
    "scrolled": false
   },
   "outputs": [],
   "source": [
    "optimization_semsc.writeresults(s,\"sol/r1_norecy_genetic.csv\")"
   ]
  },
  {
   "cell_type": "code",
   "execution_count": null,
   "metadata": {
    "collapsed": true
   },
   "outputs": [],
   "source": []
  }
 ],
 "metadata": {
  "kernelspec": {
   "display_name": "Python 3",
   "language": "python",
   "name": "python3"
  },
  "language_info": {
   "codemirror_mode": {
    "name": "ipython",
    "version": 3
   },
   "file_extension": ".py",
   "mimetype": "text/x-python",
   "name": "python",
   "nbconvert_exporter": "python",
   "pygments_lexer": "ipython3",
   "version": "3.4.3"
  }
 },
 "nbformat": 4,
 "nbformat_minor": 0
}
